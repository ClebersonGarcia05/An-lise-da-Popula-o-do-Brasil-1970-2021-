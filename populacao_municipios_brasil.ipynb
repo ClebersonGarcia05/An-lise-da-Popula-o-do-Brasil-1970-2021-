{
 "cells": [
  {
   "cell_type": "code",
   "execution_count": 3,
   "metadata": {},
   "outputs": [],
   "source": [
    "#import das bibliotecas\n",
    "import pandas as pd\n",
    "import numpy as np\n",
    "import matplotlib.pyplot as plt"
   ]
  },
  {
   "cell_type": "code",
   "execution_count": 4,
   "metadata": {},
   "outputs": [],
   "source": [
    "#lendo a planilha e transformando em um DataFrame\n",
    "dataframe = pd.read_csv('brazil_municipalities_population.csv')"
   ]
  },
  {
   "cell_type": "code",
   "execution_count": null,
   "metadata": {},
   "outputs": [],
   "source": [
    "#Verificação de quantidade de linha e quantidade de colunas\n",
    "dataframe.shape"
   ]
  },
  {
   "cell_type": "code",
   "execution_count": null,
   "metadata": {},
   "outputs": [],
   "source": [
    "#Verificando o nome das colunas existentes\n",
    "dataframe.columns"
   ]
  },
  {
   "cell_type": "code",
   "execution_count": null,
   "metadata": {},
   "outputs": [],
   "source": [
    "#Exibindo as 5 primeiras linhas do DataFrame\n",
    "dataframe.head()"
   ]
  },
  {
   "cell_type": "code",
   "execution_count": null,
   "metadata": {},
   "outputs": [],
   "source": [
    "#Contando a quantidade de nan por coluna\n",
    "dataframe.isna().sum()"
   ]
  },
  {
   "cell_type": "code",
   "execution_count": null,
   "metadata": {},
   "outputs": [],
   "source": [
    "#formatanto quantas casas decimais irá mostrar\n",
    "pd.set_option('display.float_format', '{:.2f}'.format)\n",
    "#Descrição da coluna população\n",
    "dataframe['population'].describe()"
   ]
  },
  {
   "cell_type": "code",
   "execution_count": null,
   "metadata": {},
   "outputs": [],
   "source": [
    "media_populacao = dataframe['population'].mean()\n",
    "moda_populacao = dataframe['population'].mode()\n",
    "mediana_populacao = dataframe['population'].median()\n",
    "desvio_padrao_populacao = dataframe['population'].std()\n",
    "variancia_populacao = dataframe['population'].var()\n",
    "print(f'Média da populção de 1970 - 2021: {media_populacao:.2f}')\n",
    "print(f'Mediana da populção de 1970 - 2021: {mediana_populacao}')\n",
    "print(f'Desvio padrão da população: {desvio_padrao_populacao:.2f}')\n",
    "print(f'Variancia da população: {variancia_populacao:.2f}')\n",
    "print(f'Moda: {moda_populacao}')"
   ]
  },
  {
   "cell_type": "code",
   "execution_count": null,
   "metadata": {},
   "outputs": [],
   "source": [
    "#total de estados\n",
    "quantidade_estado = len(dataframe['abbrev_state'].unique())\n",
    "print(f'O Brasil tem {quantidade_estado} estados')"
   ]
  },
  {
   "cell_type": "code",
   "execution_count": null,
   "metadata": {},
   "outputs": [],
   "source": [
    "#Quantidade de cidade por estado e quantidade de cidade total no Brasil\n",
    "quantidade_de_cidade_estado = dataframe.groupby('abbrev_state')['name_municipality'].nunique().reset_index().sort_values(by='name_municipality', ascending=False)\n",
    "quantidade_de_cidade_estado.columns = ['Estado', 'Quantidade de cidade']\n",
    "quantidade_total_brasil = quantidade_de_cidade_estado['Quantidade de cidade'].sum()\n",
    "print(f'O Brasil tem {quantidade_total_brasil} cidades no total')\n",
    "for i in range(len(quantidade_de_cidade_estado)):\n",
    "    print(f'O estado {quantidade_de_cidade_estado.iloc[i][\"Estado\"]} tem {quantidade_de_cidade_estado.iloc[i][\"Quantidade de cidade\"]} cidades')"
   ]
  },
  {
   "cell_type": "code",
   "execution_count": null,
   "metadata": {},
   "outputs": [],
   "source": [
    "#Quantidade da populão alinhada por estado e ano\n",
    "df_populacao_estado_ano = dataframe.groupby(['year', 'abbrev_state'])['population'].sum().reset_index().sort_values(by=['year', 'population'], ascending=[True, False])\n",
    "df_populacao_estado_ano\n",
    "\n"
   ]
  },
  {
   "cell_type": "code",
   "execution_count": null,
   "metadata": {},
   "outputs": [],
   "source": [
    "# Lista de cores em hexadecimal (27 cores)\n",
    "colors = [\n",
    "    '#FF0000',  # Vermelho\n",
    "    '#00FF00',  # Verde\n",
    "    '#0000FF',  # Azul\n",
    "    '#FFFF00',  # Amarelo\n",
    "    '#FF00FF',  # Magenta\n",
    "    '#00FFFF',  # Ciano\n",
    "    '#800000',  # Marrom\n",
    "    '#008000',  # Verde escuro\n",
    "    '#000080',  # Azul marinho\n",
    "    '#808000',  # Verde oliva\n",
    "    '#800080',  # Roxo\n",
    "    '#008080',  # Verde-água\n",
    "    '#FF8080',  # Rosa claro\n",
    "    '#80FF80',  # Verde claro\n",
    "    '#8080FF',  # Azul claro\n",
    "    '#FF8000',  # Laranja\n",
    "    '#8000FF',  # Roxo forte\n",
    "    '#00FF80',  # Verde menta\n",
    "    '#808000',  # Mostarda\n",
    "    '#FF0080',  # Rosa choque\n",
    "    '#0080FF',  # Azul celeste\n",
    "    '#80FF00',  # Limão\n",
    "    '#800080',  # Púrpura\n",
    "    '#FF80FF',  # Rosa claro\n",
    "    '#00FF00',  # Verde fluorescente\n",
    "    '#008080',  # Azul petróleo\n",
    "    '#FF0000'   # Vermelho forte\n",
    "]\n",
    "\n",
    "# Criando um dicionário para mapear cada estado a uma cor específica\n",
    "estado_para_cor = {estado: colors[i % len(colors)] for i, estado in enumerate(df_populacao_estado_ano['abbrev_state'].unique())}\n",
    "\n",
    "# Configurando o tamanho do gráfico\n",
    "plt.figure(figsize=(14, 6))\n",
    "\n",
    "# Plotando o gráfico de linhas para cada estado com cores diferentes\n",
    "for estado in df_populacao_estado_ano['abbrev_state'].unique():\n",
    "    df_estado = df_populacao_estado_ano[df_populacao_estado_ano['abbrev_state'] == estado]\n",
    "    plt.plot(df_estado['year'], df_estado['population'] / 1e6, marker='o', label=estado, color=estado_para_cor[estado])  # Usando a cor do estado\n",
    "\n",
    "# Customizações do gráfico\n",
    "plt.title('Crescimento da População de 1970 - 2021 por estado')\n",
    "plt.xlabel('Ano')\n",
    "plt.ylabel('População (em milhões)')\n",
    "plt.legend(title='Estado')\n",
    "plt.grid(True)\n",
    "\n",
    "# Exibindo o gráfico\n",
    "plt.show()"
   ]
  }
 ],
 "metadata": {
  "kernelspec": {
   "display_name": "base",
   "language": "python",
   "name": "python3"
  },
  "language_info": {
   "codemirror_mode": {
    "name": "ipython",
    "version": 3
   },
   "file_extension": ".py",
   "mimetype": "text/x-python",
   "name": "python",
   "nbconvert_exporter": "python",
   "pygments_lexer": "ipython3",
   "version": "3.12.4"
  }
 },
 "nbformat": 4,
 "nbformat_minor": 2
}
